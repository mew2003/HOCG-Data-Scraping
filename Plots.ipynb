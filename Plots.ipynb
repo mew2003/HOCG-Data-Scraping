{
 "cells": [
  {
   "cell_type": "markdown",
   "metadata": {},
   "source": [
    "Import librairies"
   ]
  },
  {
   "cell_type": "code",
   "execution_count": 135,
   "metadata": {},
   "outputs": [],
   "source": [
    "import gspread\n",
    "import pandas as pd\n",
    "import numpy as np\n",
    "import matplotlib.pyplot as plt\n",
    "from oauth2client.service_account import ServiceAccountCredentials\n",
    "from matplotlib import rcParams\n",
    "rcParams['font.family'] = 'MS Gothic'"
   ]
  },
  {
   "cell_type": "markdown",
   "metadata": {},
   "source": [
    "Connection with google sheets"
   ]
  },
  {
   "cell_type": "code",
   "execution_count": null,
   "metadata": {},
   "outputs": [],
   "source": [
    "scope = [\"https://spreadsheets.google.com/feeds\", \"https://www.googleapis.com/auth/drive\"]\n",
    "creds = ServiceAccountCredentials.from_json_keyfile_name('../api-key.json', scope)\n",
    "client = gspread.authorize(creds)\n",
    "\n",
    "# Open Google Sheets\n",
    "spreadsheet = client.open_by_key('1tWzHyOUIsNMERChwDtMJlgUURB0aIxNlOkPDp5CDTkk')"
   ]
  },
  {
   "cell_type": "markdown",
   "metadata": {},
   "source": [
    "Get every tables"
   ]
  },
  {
   "cell_type": "code",
   "execution_count": null,
   "metadata": {},
   "outputs": [],
   "source": [
    "data_sheet = spreadsheet.get_worksheet(1)\n",
    "hocg_analysis_sheet = spreadsheet.get_worksheet(2)\n",
    "general_data_sheet = spreadsheet.get_worksheet(5)\n",
    "\n",
    "data_table = data_sheet.get_all_records()\n",
    "market_value_table = hocg_analysis_sheet.get('A1:D2')\n",
    "product_relative_data_table = hocg_analysis_sheet.get('A4:L19')\n",
    "association_table = hocg_analysis_sheet.get('A23:CN37')\n",
    "collabs_table = hocg_analysis_sheet.get('A39:C40')\n",
    "boosters_general_table = general_data_sheet.get('A1:D3')\n",
    "decks_general_table = general_data_sheet.get('A5:H7')"
   ]
  },
  {
   "cell_type": "markdown",
   "metadata": {},
   "source": [
    "Generate data frames"
   ]
  },
  {
   "cell_type": "code",
   "execution_count": 160,
   "metadata": {},
   "outputs": [],
   "source": [
    "df_data = pd.DataFrame(data_table)\n",
    "# print(df_data)\n",
    "df_market_value = pd.DataFrame(market_value_table)\n",
    "# print(df_market_value)\n",
    "df_product_relative_data = pd.DataFrame(product_relative_data_table)\n",
    "df_product_relative_data.iloc[0] = df_product_relative_data.iloc[0].replace(\"\", np.nan).ffill()\n",
    "df_product_relative_data.columns = df_product_relative_data.iloc[1]\n",
    "df_product_relative_data = df_product_relative_data.drop(1).reset_index(drop=True)\n",
    "df_product_relative_data = df_product_relative_data.set_index(df_product_relative_data.columns[0])\n",
    "# print(df_product_relative_data)\n",
    "df_association = pd.DataFrame(association_table)\n",
    "# print(df_association)\n",
    "df_collabs = pd.DataFrame(collabs_table)\n",
    "# print(df_collabs)\n",
    "df_boosters_general = pd.DataFrame(boosters_general_table).T\n",
    "df_boosters_general.columns = df_boosters_general.iloc[0]\n",
    "df_boosters_general = df_boosters_general.drop(0).reset_index(drop=True)\n",
    "df_boosters_general['Release date'] = pd.to_datetime(df_boosters_general['Release date'], format='%Y年%m月%d日', errors='coerce')\n",
    "# print(df_boosters_general)\n",
    "df_decks_general = pd.DataFrame(decks_general_table).T\n",
    "df_decks_general.columns = df_decks_general.iloc[0]\n",
    "df_decks_general = df_decks_general.drop(0).reset_index(drop=True)\n",
    "df_decks_general['Release date'] = pd.to_datetime(df_decks_general['Release date'], format='%Y年%m月%d日', errors='coerce')\n",
    "# print(df_decks_general)"
   ]
  },
  {
   "cell_type": "code",
   "execution_count": null,
   "metadata": {},
   "outputs": [],
   "source": [
    "# print(df_product_relative_data)\n",
    "\n",
    "# Add boosters\n",
    "product_realease_date = dict(zip(df_boosters_general['Boosters Names'], df_boosters_general['Release date']))\n",
    "# Add decks\n",
    "product_realease_date.update(dict(zip(df_decks_general['Decks Names'], df_decks_general['Release date'])))\n",
    "\n",
    "dates = sorted(list(set(product_realease_date.values())))\n",
    "dates_string = [date.strftime('%Y年%m月%d日') for date in dates]\n",
    "\n",
    "date_counter_boosters = {date: 0 for date in dates}\n",
    "for booster in df_boosters_general['Boosters Names']:\n",
    "    # Récupérer la date de sortie du booster\n",
    "    release_date = product_realease_date.get(booster)\n",
    "    \n",
    "    if release_date in date_counter_boosters:\n",
    "        # Incrémenter la valeur associée à cette date\n",
    "        date_counter_boosters[release_date] += 1\n",
    "\n",
    "date_counter_decks = {date: 0 for date in dates}\n",
    "for decks in df_decks_general['Decks Names']:\n",
    "    # Récupérer la date de sortie du booster\n",
    "    release_date = product_realease_date.get(decks)\n",
    "    \n",
    "    if release_date in date_counter_decks:\n",
    "        # Incrémenter la valeur associée à cette date\n",
    "        date_counter_decks[release_date] += 1\n",
    "\n",
    "values_boosters = list(date_counter_boosters.values())\n",
    "values_boosters = [np.nan if value == 0 else value for value in values_boosters]\n",
    "\n",
    "values_decks = list(date_counter_decks.values())\n",
    "values_decks = [np.nan if value == 0 else value for value in values_decks]\n",
    "\n",
    "plt.plot(dates_string, values_boosters, marker='o', label=\"Ligne 1\", color='blue', linestyle='-', linewidth=2)\n",
    "plt.plot(dates_string, values_decks, marker='o', label=\"Ligne 2\", color='green', linestyle='-', linewidth=2)\n",
    "\n",
    "plt.show()"
   ]
  },
  {
   "cell_type": "code",
   "execution_count": null,
   "metadata": {},
   "outputs": [],
   "source": [
    "labels = ['test1', 'test2', 'test3']\n",
    "\n",
    "values1 = [20, np.nan, 15]\n",
    "values2 = [12, 23, np.nan]\n",
    "values3 = [np.nan, 21, 13]\n",
    "\n",
    "# Remplir les NaN de values1 par interpolation\n",
    "values1_interp = np.interp([0, 1, 2], [0, 2], [20, 15]) \n",
    "\n",
    "plt.plot(labels, values1_interp, marker='o', label=\"Ligne 1\", color='blue', linestyle='-', markevery=[0, 2], linewidth=2)\n",
    "plt.plot(labels, values2, marker='o', label=\"Ligne 2\", color='green', linestyle='-', linewidth=2)\n",
    "plt.plot(labels, values3, marker='o', label=\"Ligne 3\", color='red', linestyle='-', linewidth=2)\n",
    "\n",
    "# Titre et labels des axes\n",
    "plt.title(\"Graphique avec trois lignes et des valeurs manquantes\")\n",
    "plt.xlabel(\"Tests\")\n",
    "plt.ylabel(\"Valeurs\")\n",
    "\n",
    "# Affichage du graphique\n",
    "plt.legend()\n",
    "plt.show()\n"
   ]
  }
 ],
 "metadata": {
  "kernelspec": {
   "display_name": "Python 3",
   "language": "python",
   "name": "python3"
  },
  "language_info": {
   "codemirror_mode": {
    "name": "ipython",
    "version": 3
   },
   "file_extension": ".py",
   "mimetype": "text/x-python",
   "name": "python",
   "nbconvert_exporter": "python",
   "pygments_lexer": "ipython3",
   "version": "3.12.8"
  }
 },
 "nbformat": 4,
 "nbformat_minor": 2
}
