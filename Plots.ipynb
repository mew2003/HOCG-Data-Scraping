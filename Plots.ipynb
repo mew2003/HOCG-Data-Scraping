{
 "cells": [
  {
   "cell_type": "markdown",
   "metadata": {},
   "source": [
    "Import librairies"
   ]
  },
  {
   "cell_type": "code",
   "execution_count": null,
   "metadata": {},
   "outputs": [],
   "source": [
    "import gspread\n",
    "import pandas as pd\n",
    "import numpy as np\n",
    "import matplotlib.pyplot as plt\n",
    "from oauth2client.service_account import ServiceAccountCredentials\n",
    "from matplotlib import rcParams\n",
    "from utils.sheets_to_dataframe import sheets_to_df\n",
    "rcParams['font.family'] = 'MS Gothic'\n",
    "\n",
    "%load_ext autoreload\n",
    "%autoreload 2"
   ]
  },
  {
   "cell_type": "markdown",
   "metadata": {},
   "source": [
    "Connection with google sheets"
   ]
  },
  {
   "cell_type": "code",
   "execution_count": 9,
   "metadata": {},
   "outputs": [],
   "source": [
    "scope = [\"https://spreadsheets.google.com/feeds\", \"https://www.googleapis.com/auth/drive\"]\n",
    "creds = ServiceAccountCredentials.from_json_keyfile_name('../api-key.json', scope)\n",
    "client = gspread.authorize(creds)\n",
    "\n",
    "# Open Google Sheets\n",
    "spreadsheet = client.open_by_key('1tWzHyOUIsNMERChwDtMJlgUURB0aIxNlOkPDp5CDTkk')"
   ]
  },
  {
   "cell_type": "markdown",
   "metadata": {},
   "source": [
    "Get every tables"
   ]
  },
  {
   "cell_type": "code",
   "execution_count": 51,
   "metadata": {},
   "outputs": [],
   "source": [
    "data_sheet = spreadsheet.get_worksheet(1)\n",
    "hocg_analysis_sheet = spreadsheet.get_worksheet(2)\n",
    "general_data_sheet = spreadsheet.get_worksheet(5)\n",
    "\n",
    "data_table = data_sheet.get_all_records()\n",
    "market_value_table = hocg_analysis_sheet.get('A1:D2')\n",
    "product_relative_data_table = hocg_analysis_sheet.get('A5:L19')\n",
    "association_table = hocg_analysis_sheet.get('A23:CN36')\n",
    "collabs_table = hocg_analysis_sheet.get('A38:C39')\n",
    "boosters_general_table = general_data_sheet.get('A1:D3')\n",
    "decks_general_table = general_data_sheet.get('A5:H7')\n",
    "oshi_association_table = general_data_sheet.get('A9:BW10')"
   ]
  },
  {
   "cell_type": "markdown",
   "metadata": {},
   "source": [
    "Generate data frames"
   ]
  },
  {
   "cell_type": "code",
   "execution_count": null,
   "metadata": {},
   "outputs": [],
   "source": [
    "df_data = pd.DataFrame(data_table)\n",
    "\n",
    "df_market_value = sheets_to_df(market_value_table, df_type=\"numeric\")\n",
    "\n",
    "for i in range(len(product_relative_data_table[0]) - len(product_relative_data_table[1])):\n",
    "    for row in product_relative_data_table[1:]:\n",
    "        row.append(np.nan)\n",
    "df_product_relative_data = sheets_to_df(product_relative_data_table, mode=\"rows\", df_type=\"numeric\")\n",
    "\n",
    "df_association = sheets_to_df(association_table, mode=\"rows\", df_type=\"numeric\")\n",
    "\n",
    "df_collabs = sheets_to_df(collabs_table, mode=\"rows\", df_type=\"numeric\")\n",
    "\n",
    "df_boosters_general = sheets_to_df(boosters_general_table, transpose=True)\n",
    "\n",
    "df_decks_general = sheets_to_df(decks_general_table, transpose=True)\n",
    "\n",
    "df_oshi_association = sheets_to_df(oshi_association_table, mode=\"rows\")"
   ]
  },
  {
   "cell_type": "code",
   "execution_count": null,
   "metadata": {},
   "outputs": [],
   "source": [
    "dates_list = [date.strftime('%Y年%m月%d日').replace(f\"0{date.month}月\", f\"{date.month}月\").replace(f\"0{date.day}日\", f\"{date.day}日\") for date in sorted(pd.to_datetime(list(set(df_boosters_general['Release date']).union(set(df_decks_general['Release date']))), format='%Y年%m月%d日'))]\n",
    "\n",
    "new_df = pd.DataFrame(columns=dates_list, index=[\"Boosters\", \"Decks\"])\n",
    "\n",
    "new_df.loc[\"Boosters\"] = {date: {\"names\": \"\", \"nb cards\": 0} for date in dates_list}\n",
    "new_df.loc[\"Decks\"] = {date: {\"names\": \"\", \"nb cards\": 0} for date in dates_list}\n",
    "\n",
    "for index, row in df_boosters_general.iterrows():\n",
    "    current_names = new_df[row['Release date']][\"Boosters\"][\"names\"]\n",
    "    new_df[row['Release date']][\"Boosters\"][\"names\"] = \"\\n\".join([current_names, row['Boosters Names']]) if current_names else row['Boosters Names']\n",
    "    new_df[row['Release date']][\"Boosters\"][\"nb cards\"] += df_product_relative_data[row['Boosters Names']][\"Total cards by products*\"]\n",
    "\n",
    "for index, row in df_decks_general.iterrows():\n",
    "    current_names = new_df[row['Release date']][\"Decks\"][\"names\"]\n",
    "    new_df[row['Release date']][\"Decks\"][\"names\"] = \"\\n\".join([current_names, row['Decks Names']]) if current_names else row['Decks Names']\n",
    "    new_df[row['Release date']][\"Decks\"][\"nb cards\"] += df_product_relative_data[row['Decks Names']][\"Total cards by products*\"]\n",
    "\n",
    "boosters_values = [np.nan if value[\"nb cards\"] == 0 else value[\"nb cards\"] for value in new_df.loc[\"Boosters\"].values]\n",
    "decks_values = [np.nan if value[\"nb cards\"] == 0 else value[\"nb cards\"] for value in new_df.loc[\"Decks\"].values]\n",
    "boosters_values[3] = 0\n",
    "decks_values[2] = 0\n",
    "boosters_values = np.interp([0, 1, 2, 3], [0, 1, 3], [boosters_values[0], boosters_values[1], boosters_values[3]]) \n",
    "\n",
    "plt.plot(new_df.columns, boosters_values, marker='o', label=\"Ligne 1\", color='blue', linestyle='-', markevery=[0, 1, 3], linewidth=2)\n",
    "plt.plot(new_df.columns, decks_values, marker='o', label=\"Ligne 2\", color='red', linestyle='-', markevery=[0, 1, 2], linewidth=2)\n",
    "\n",
    "for index, (x, y) in enumerate(zip(new_df.columns, boosters_values)):\n",
    "    if new_df[x][\"Boosters\"][\"names\"] != \"\":\n",
    "        plt.text(x, y + 5, f\"{new_df[x][\"Boosters\"][\"names\"]}\\n{y}\", ha='center', fontsize=8, color='black')\n",
    "\n",
    "for index, (x, y) in enumerate(zip(new_df.columns, decks_values)):\n",
    "    if new_df[x][\"Decks\"][\"names\"] != \"\":\n",
    "        plt.text(x, y + 5, f\"{new_df[x][\"Decks\"][\"names\"]}\\n{y}\", ha='center', fontsize=8, color='black')\n",
    "\n",
    "plt.show()"
   ]
  }
 ],
 "metadata": {
  "kernelspec": {
   "display_name": "Python 3",
   "language": "python",
   "name": "python3"
  },
  "language_info": {
   "codemirror_mode": {
    "name": "ipython",
    "version": 3
   },
   "file_extension": ".py",
   "mimetype": "text/x-python",
   "name": "python",
   "nbconvert_exporter": "python",
   "pygments_lexer": "ipython3",
   "version": "3.12.8"
  }
 },
 "nbformat": 4,
 "nbformat_minor": 2
}
